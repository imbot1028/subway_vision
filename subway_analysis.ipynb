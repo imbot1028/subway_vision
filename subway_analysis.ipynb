{
 "cells": [
  {
   "cell_type": "code",
   "execution_count": 12,
   "metadata": {},
   "outputs": [],
   "source": [
    "import pandas as pd\n",
    "import folium"
   ]
  },
  {
   "cell_type": "code",
   "execution_count": 13,
   "metadata": {},
   "outputs": [],
   "source": [
    "line = pd.read_csv('./subway_line_long_lat.csv', encoding= 'cp949')\n",
    "passenger = pd.read_csv('./subway_passenger_2022.csv',encoding = 'cp949')\n",
    "passenger = passenger.drop(columns='등록일자')\n",
    "passenger_time = pd.read_csv('./subway_time_data.csv', encoding='cp949')\n"
   ]
  },
  {
   "cell_type": "code",
   "execution_count": 14,
   "metadata": {},
   "outputs": [
    {
     "name": "stdout",
     "output_type": "stream",
     "text": [
      "<class 'pandas.core.frame.DataFrame'>\n",
      "RangeIndex: 276 entries, 0 to 275\n",
      "Data columns (total 7 columns):\n",
      " #   Column   Non-Null Count  Dtype  \n",
      "---  ------   --------------  -----  \n",
      " 0   연번       276 non-null    int64  \n",
      " 1   호선       276 non-null    int64  \n",
      " 2   역번호      276 non-null    object \n",
      " 3   역명       276 non-null    object \n",
      " 4   경도       276 non-null    float64\n",
      " 5   위도       276 non-null    float64\n",
      " 6   데이터기준일자  276 non-null    object \n",
      "dtypes: float64(2), int64(2), object(3)\n",
      "memory usage: 15.2+ KB\n",
      "<class 'pandas.core.frame.DataFrame'>\n",
      "RangeIndex: 219745 entries, 0 to 219744\n",
      "Data columns (total 5 columns):\n",
      " #   Column  Non-Null Count   Dtype \n",
      "---  ------  --------------   ----- \n",
      " 0   사용일자    219745 non-null  int64 \n",
      " 1   노선명     219745 non-null  object\n",
      " 2   역명      219745 non-null  object\n",
      " 3   승차총승객수  219745 non-null  int64 \n",
      " 4   하차총승객수  219745 non-null  int64 \n",
      "dtypes: int64(3), object(2)\n",
      "memory usage: 8.4+ MB\n",
      "<class 'pandas.core.frame.DataFrame'>\n",
      "RangeIndex: 56339 entries, 0 to 56338\n",
      "Data columns (total 52 columns):\n",
      " #   Column        Non-Null Count  Dtype \n",
      "---  ------        --------------  ----- \n",
      " 0   사용월           56339 non-null  int64 \n",
      " 1   호선명           56339 non-null  object\n",
      " 2   지하철역          56339 non-null  object\n",
      " 3   04시-05시 승차인원  56339 non-null  int64 \n",
      " 4   04시-05시 하차인원  56339 non-null  int64 \n",
      " 5   05시-06시 승차인원  56339 non-null  int64 \n",
      " 6   05시-06시 하차인원  56339 non-null  int64 \n",
      " 7   06시-07시 승차인원  56339 non-null  int64 \n",
      " 8   06시-07시 하차인원  56339 non-null  int64 \n",
      " 9   07시-08시 승차인원  56339 non-null  int64 \n",
      " 10  07시-08시 하차인원  56339 non-null  int64 \n",
      " 11  08시-09시 승차인원  56339 non-null  int64 \n",
      " 12  08시-09시 하차인원  56339 non-null  int64 \n",
      " 13  09시-10시 승차인원  56339 non-null  int64 \n",
      " 14  09시-10시 하차인원  56339 non-null  int64 \n",
      " 15  10시-11시 승차인원  56339 non-null  int64 \n",
      " 16  10시-11시 하차인원  56339 non-null  int64 \n",
      " 17  11시-12시 승차인원  56339 non-null  int64 \n",
      " 18  11시-12시 하차인원  56339 non-null  int64 \n",
      " 19  12시-13시 승차인원  56339 non-null  int64 \n",
      " 20  12시-13시 하차인원  56339 non-null  int64 \n",
      " 21  13시-14시 승차인원  56339 non-null  int64 \n",
      " 22  13시-14시 하차인원  56339 non-null  int64 \n",
      " 23  14시-15시 승차인원  56339 non-null  int64 \n",
      " 24  14시-15시 하차인원  56339 non-null  int64 \n",
      " 25  15시-16시 승차인원  56339 non-null  int64 \n",
      " 26  15시-16시 하차인원  56339 non-null  int64 \n",
      " 27  16시-17시 승차인원  56339 non-null  int64 \n",
      " 28  16시-17시 하차인원  56339 non-null  int64 \n",
      " 29  17시-18시 승차인원  56339 non-null  int64 \n",
      " 30  17시-18시 하차인원  56339 non-null  int64 \n",
      " 31  18시-19시 승차인원  56339 non-null  int64 \n",
      " 32  18시-19시 하차인원  56339 non-null  int64 \n",
      " 33  19시-20시 승차인원  56339 non-null  int64 \n",
      " 34  19시-20시 하차인원  56339 non-null  int64 \n",
      " 35  20시-21시 승차인원  56339 non-null  int64 \n",
      " 36  20시-21시 하차인원  56339 non-null  int64 \n",
      " 37  21시-22시 승차인원  56339 non-null  int64 \n",
      " 38  21시-22시 하차인원  56339 non-null  int64 \n",
      " 39  22시-23시 승차인원  56339 non-null  int64 \n",
      " 40  22시-23시 하차인원  56339 non-null  int64 \n",
      " 41  23시-24시 승차인원  56339 non-null  int64 \n",
      " 42  23시-24시 하차인원  56339 non-null  int64 \n",
      " 43  00시-01시 승차인원  56339 non-null  int64 \n",
      " 44  00시-01시 하차인원  56339 non-null  int64 \n",
      " 45  01시-02시 승차인원  56339 non-null  int64 \n",
      " 46  01시-02시 하차인원  56339 non-null  int64 \n",
      " 47  02시-03시 승차인원  56339 non-null  int64 \n",
      " 48  02시-03시 하차인원  56339 non-null  int64 \n",
      " 49  03시-04시 승차인원  56339 non-null  int64 \n",
      " 50  03시-04시 하차인원  56339 non-null  int64 \n",
      " 51  작업일자          56339 non-null  int64 \n",
      "dtypes: int64(50), object(2)\n",
      "memory usage: 22.4+ MB\n"
     ]
    }
   ],
   "source": [
    "line.info()\n",
    "passenger.info()\n",
    "passenger_time.info()"
   ]
  },
  {
   "cell_type": "code",
   "execution_count": 15,
   "metadata": {},
   "outputs": [
    {
     "data": {
      "text/html": [
       "<div><div id=082a7f11-a5df-4747-8c0a-eeb9ea2db809 style=\"display:none; background-color:#9D6CFF; color:white; width:200px; height:30px; padding-left:5px; border-radius:4px; flex-direction:row; justify-content:space-around; align-items:center;\" onmouseover=\"this.style.backgroundColor='#BA9BF8'\" onmouseout=\"this.style.backgroundColor='#9D6CFF'\" onclick=\"window.commands?.execute('create-mitosheet-from-dataframe-output');\">See Full Dataframe in Mito</div> <script> if (window.commands?.hasCommand('create-mitosheet-from-dataframe-output')) document.getElementById('082a7f11-a5df-4747-8c0a-eeb9ea2db809').style.display = 'flex' </script> <table border=\"1\" class=\"dataframe\">\n",
       "  <thead>\n",
       "    <tr style=\"text-align: right;\">\n",
       "      <th></th>\n",
       "      <th>사용일자</th>\n",
       "      <th>승차총승객수</th>\n",
       "      <th>하차총승객수</th>\n",
       "    </tr>\n",
       "  </thead>\n",
       "  <tbody>\n",
       "    <tr>\n",
       "      <th>count</th>\n",
       "      <td>2.197450e+05</td>\n",
       "      <td>219745.000000</td>\n",
       "      <td>219745.000000</td>\n",
       "    </tr>\n",
       "    <tr>\n",
       "      <th>mean</th>\n",
       "      <td>2.022067e+07</td>\n",
       "      <td>10197.962802</td>\n",
       "      <td>10161.690696</td>\n",
       "    </tr>\n",
       "    <tr>\n",
       "      <th>std</th>\n",
       "      <td>3.448377e+02</td>\n",
       "      <td>10221.848266</td>\n",
       "      <td>10376.297181</td>\n",
       "    </tr>\n",
       "    <tr>\n",
       "      <th>min</th>\n",
       "      <td>2.022010e+07</td>\n",
       "      <td>1.000000</td>\n",
       "      <td>0.000000</td>\n",
       "    </tr>\n",
       "    <tr>\n",
       "      <th>25%</th>\n",
       "      <td>2.022040e+07</td>\n",
       "      <td>3472.000000</td>\n",
       "      <td>3341.000000</td>\n",
       "    </tr>\n",
       "    <tr>\n",
       "      <th>50%</th>\n",
       "      <td>2.022070e+07</td>\n",
       "      <td>7268.000000</td>\n",
       "      <td>7089.000000</td>\n",
       "    </tr>\n",
       "    <tr>\n",
       "      <th>75%</th>\n",
       "      <td>2.022100e+07</td>\n",
       "      <td>13467.000000</td>\n",
       "      <td>13308.000000</td>\n",
       "    </tr>\n",
       "    <tr>\n",
       "      <th>max</th>\n",
       "      <td>2.022123e+07</td>\n",
       "      <td>122543.000000</td>\n",
       "      <td>118237.000000</td>\n",
       "    </tr>\n",
       "  </tbody>\n",
       "</table></div>"
      ],
      "text/plain": [
       "               사용일자         승차총승객수         하차총승객수\n",
       "count  2.197450e+05  219745.000000  219745.000000\n",
       "mean   2.022067e+07   10197.962802   10161.690696\n",
       "std    3.448377e+02   10221.848266   10376.297181\n",
       "min    2.022010e+07       1.000000       0.000000\n",
       "25%    2.022040e+07    3472.000000    3341.000000\n",
       "50%    2.022070e+07    7268.000000    7089.000000\n",
       "75%    2.022100e+07   13467.000000   13308.000000\n",
       "max    2.022123e+07  122543.000000  118237.000000"
      ]
     },
     "execution_count": 15,
     "metadata": {},
     "output_type": "execute_result"
    }
   ],
   "source": [
    "passenger.describe()"
   ]
  },
  {
   "cell_type": "code",
   "execution_count": 16,
   "metadata": {},
   "outputs": [],
   "source": [
    "# 호선별 역사 위도, 경도 데이터 딕셔너리로 변환\n",
    "line_data = line[['호선', '역명', '경도', '위도']]\n",
    "\n",
    "\n",
    "for i in range(9) :\n",
    "    globals()['line_{}'.format(i+1)] = line_data.query('호선 == {}'.format(i+1)).reset_index()\n",
    "\n",
    "\n",
    "lat_dic = {}\n",
    "long_dic = {}\n",
    "target_line = line_2 ## 원하는 호선 입력(형식 : line_#)\n",
    "\n",
    "range_num = len(target_line.index)\n",
    "for i in range(range_num):\n",
    "    a = {target_line['역명'].iloc[i] : target_line['위도'][i]}\n",
    "    lat_dic.update(a)\n",
    "    b = {target_line['역명'].iloc[i] : target_line['경도'][i]}\n",
    "    long_dic.update(b)\n"
   ]
  },
  {
   "cell_type": "code",
   "execution_count": 17,
   "metadata": {},
   "outputs": [
    {
     "name": "stdout",
     "output_type": "stream",
     "text": [
      "결측데이터 : ['신중동', '부천종합운동장', '부천시청', '부평구청', '상동', '까치울', '삼산체육관', '굴포천', '춘의']\n"
     ]
    }
   ],
   "source": [
    "# 데이터 전처리 : passenger 데이터에 역별 위치 데이터 전처리\n",
    "\n",
    "passenger['사용일자']= pd.to_datetime(passenger['사용일자'], format = '%Y%m%d')\n",
    "passenger['요일'] = passenger['사용일자'].dt.day_name()\n",
    "# 데이터 오류 관측\n",
    "rdpg_day_sort = passenger.groupby(['요일','역명']).agg(n =('승차총승객수', 'mean')).sort_values(by = 'n')\n",
    "error_data_detect = rdpg_day_sort.query('n == 1').reset_index().groupby(['요일', '역명']).mean()\n",
    "error_station_list = list(set(error_data_detect.reset_index()['역명']))\n",
    "print(\"결측데이터 :\",error_station_list) \n",
    "#하차총승객수에는 에러데이터가 보이지 않음. 데이터 출처인 서울열린데이터광장에 따르면 수동 단말기로 취합하기 때문에 데이터오류가 있을 수 있다고 함.\n",
    "#아래 데이터는 다른 출처의 데이터로 갈음함."
   ]
  },
  {
   "cell_type": "code",
   "execution_count": 18,
   "metadata": {},
   "outputs": [],
   "source": [
    "#타 출처 데이터 전처리: 승객 시간별 승하차 데이터(2022)\n",
    "passenger_time.head(10)\n",
    "passenger_time['사용월'] = pd.to_datetime(passenger_time['사용월'], format = '%Y%m').dt.year\n",
    "passenger_time =passenger_time.drop(columns=['작업일자','호선명'])\n"
   ]
  },
  {
   "cell_type": "code",
   "execution_count": null,
   "metadata": {},
   "outputs": [],
   "source": [
    "passenger_time.query('지하철역 == \"삼산체육관\" and 사용월 == 2021')\n"
   ]
  },
  {
   "cell_type": "code",
   "execution_count": 20,
   "metadata": {},
   "outputs": [
    {
     "name": "stdout",
     "output_type": "stream",
     "text": [
      "서울시 송파구 가락동 140 의 위도, 경도는 : 127.128117809357 37.4955429569204\n"
     ]
    }
   ],
   "source": [
    "#좌표 찾기\n",
    "import json\n",
    "import requests\n",
    "\n",
    "with open(\"./api.txt\") as api:\n",
    "    lines = api.readlines()\n",
    "    api_key = lines[0].strip()\n",
    "    \n",
    "addr = '서울시 송파구 가락동 140' ##<- 주소를 입력\n",
    "class catch_address():\n",
    "    \n",
    "    def addr_to_lat_long(addr):\n",
    "        url = 'https://dapi.kakao.com/v2/local/search/address.json?query={address}'.format(address=addr)\n",
    "        headers = {\"Authorization\": \"KakaoAK \" + api_key}\n",
    "        result = json.loads(str(requests.get(url, headers=headers).text))\n",
    "        match_first = result['documents'][0]['address']\n",
    "        return float(match_first['x']), float(match_first['y'])\n",
    "    \n",
    "    def addr_lat(addr):\n",
    "        a3 = catch_address.addr_to_lat_long(addr)\n",
    "        a3_list = list(a3)\n",
    "        return a3_list[0]\n",
    "    \n",
    "    def addr_long(addr):\n",
    "        a3 = catch_address.addr_to_lat_long(addr)\n",
    "        a3_list = list(a3)\n",
    "        return a3_list[1]\n",
    "    \n",
    "    def search_lat_long(addr):\n",
    "        return print(addr,'의 위도, 경도는 :', catch_address.addr_lat(addr), catch_address.addr_long(addr))\n",
    "        \n",
    "catch_address.search_lat_long(addr)"
   ]
  },
  {
   "cell_type": "code",
   "execution_count": 21,
   "metadata": {},
   "outputs": [],
   "source": [
    "map = folium.Map(location= [127.128117809357, 37.4955429569204], zoom_start=13, width = 750, height=500)\n",
    "\n",
    "class data_mapping():\n",
    "    \n",
    "    def marker(lat, long, name, pop):\n",
    "        return folium.Marker(location = [lat, long], popup= pop, tooltip = name )\n",
    "    \n",
    "    def circle_marker(lat, long, name, pop):\n",
    "        radius_size = pop/2000 # 승하차 인원 비례\n",
    "        return folium.CircleMarker(location=[lat, long], color = 'red', radius = radius_size)\n",
    "    \n",
    "    def mapping_exe(): # 실행파일 작성"
   ]
  },
  {
   "cell_type": "code",
   "execution_count": 22,
   "metadata": {},
   "outputs": [],
   "source": [
    "locate = []\n",
    "for i in locate :\n",
    "    lat = 1\n",
    "    long = 2\n",
    "    pop = 333333\n",
    "    name = 45\n",
    "    data_mapping.marker(lat, long, name, pop)"
   ]
  },
  {
   "cell_type": "code",
   "execution_count": null,
   "metadata": {},
   "outputs": [],
   "source": []
  }
 ],
 "metadata": {
  "kernelspec": {
   "display_name": "base",
   "language": "python",
   "name": "python3"
  },
  "language_info": {
   "codemirror_mode": {
    "name": "ipython",
    "version": 3
   },
   "file_extension": ".py",
   "mimetype": "text/x-python",
   "name": "python",
   "nbconvert_exporter": "python",
   "pygments_lexer": "ipython3",
   "version": "3.9.13"
  },
  "orig_nbformat": 4,
  "vscode": {
   "interpreter": {
    "hash": "6b921c805efb5a632375e577b3e33d338c143f0ce160c7afb22588d0b5f12378"
   }
  }
 },
 "nbformat": 4,
 "nbformat_minor": 2
}
